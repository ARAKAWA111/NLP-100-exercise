{
  "nbformat": 4,
  "nbformat_minor": 0,
  "metadata": {
    "colab": {
      "provenance": []
    },
    "kernelspec": {
      "name": "python3",
      "display_name": "Python 3"
    },
    "language_info": {
      "name": "python"
    }
  },
  "cells": [
    {
      "cell_type": "markdown",
      "source": [
        "0\n",
        ". 文字列の逆順\n",
        "\n",
        "文字列”stressed”の文字を逆に（末尾から先頭に向かって）並べた文字列を得よ．"
      ],
      "metadata": {
        "id": "zGxPRo6eBuTW"
      }
    },
    {
      "cell_type": "code",
      "source": [
        "# 00\n",
        "\n",
        "str = 'stressed'\n",
        "\n",
        "middle = list(str) # リストにする\n",
        "ans = ''.join(list(reversed(middle))) # 文字列は middle.reverse(str)だとうまくいかない. 逆順にしたリストをくっつけて文字列を得る\n",
        "print(ans)\n",
        "\n",
        "result = str[::-1] # [開始位置 : 終了位置 : ステップ]\n",
        "\n",
        "# 開始位置：どこから切り取り始めるかを指定します。省略すると、最初から（インデックス 0 から）始まります。\n",
        "# 終了位置：どこで切り取りを終わるかを指定します。省略すると、最後まで続けます。\n",
        "# ステップ：どのような間隔で要素を取得するかを指定します。正の数を指定すると前向きに、負の数を指定すると逆向きに取得します。\n",
        "\n",
        "print(result)"
      ],
      "metadata": {
        "colab": {
          "base_uri": "https://localhost:8080/"
        },
        "id": "6gQkidZeBvhY",
        "outputId": "d7d838b1-b2f6-4b8e-8d77-64116baa9300"
      },
      "execution_count": null,
      "outputs": [
        {
          "output_type": "stream",
          "name": "stdout",
          "text": [
            "desserts\n",
            "desserts\n"
          ]
        }
      ]
    },
    {
      "cell_type": "markdown",
      "source": [
        "参考サイト\n",
        "\n",
        "https://note.nkmk.me/python-reverse-reversed/#reverse\n",
        "\n",
        "https://codechacha.com/ja/python-convert-string-to-char-list/"
      ],
      "metadata": {
        "id": "ompiqkMZEH1f"
      }
    },
    {
      "cell_type": "markdown",
      "source": [
        "01. 「パタトクカシーー」\n",
        "\n",
        " 「パタトクカシーー」という文字列の1,3,5,7文字目を取り出して連結した文字列を得よ."
      ],
      "metadata": {
        "id": "5Yv8G6HZEZnT"
      }
    },
    {
      "cell_type": "code",
      "execution_count": null,
      "metadata": {
        "colab": {
          "base_uri": "https://localhost:8080/"
        },
        "id": "pGhGUsqDBoG1",
        "outputId": "d29b82c6-48fe-43e1-c051-1f4dec2f2c55"
      },
      "outputs": [
        {
          "output_type": "stream",
          "name": "stdout",
          "text": [
            "パトカー\n",
            "パトカー\n"
          ]
        }
      ],
      "source": [
        "# 01\n",
        "str = 'パタトクカシー'\n",
        "\n",
        "middle = list(str)\n",
        "ans = middle[0] + middle[2] + middle[4] + middle[6]\n",
        "print(ans)\n",
        "\n",
        "result = str[::2] # 偶数のみ抽出  奇数ならばodd = str[1::2]\n",
        "print(result)\n"
      ]
    },
    {
      "cell_type": "markdown",
      "source": [
        "https://qiita.com/tanuk1647/items/276d2be36f5abb8ea52e"
      ],
      "metadata": {
        "id": "S4gAz2uIu8FN"
      }
    },
    {
      "cell_type": "markdown",
      "source": [
        "02\n",
        "\n",
        "「パトカー」＋「タクシー」の文字を先頭から交互に連結して文字列「パタトクカシーー」を得よ．"
      ],
      "metadata": {
        "id": "-hf0QIxK9eJj"
      }
    },
    {
      "cell_type": "code",
      "source": [
        "# 02\n",
        "\n",
        "word1 = 'パトカー'\n",
        "word2 = 'タクシー'\n",
        "\n",
        "word1 = list(word1)\n",
        "word2 = list(word2)\n",
        "\n",
        "ans = ''.join([z for sublist in [[x, y] for x, y in zip(word1, word2)] for z in sublist])\n",
        "print(ans)\n"
      ],
      "metadata": {
        "id": "cANgzDod9YGn",
        "colab": {
          "base_uri": "https://localhost:8080/"
        },
        "outputId": "d049d3c7-1ed2-436c-b3af-7051c3a3a69a"
      },
      "execution_count": null,
      "outputs": [
        {
          "output_type": "stream",
          "name": "stdout",
          "text": [
            "パタトクカシーー\n"
          ]
        }
      ]
    },
    {
      "cell_type": "markdown",
      "source": [
        "http://taustation.com/python3-comprehension/#i-2"
      ],
      "metadata": {
        "id": "gmxAZV6XxAS9"
      }
    },
    {
      "cell_type": "markdown",
      "source": [
        "03\n",
        "\n",
        "“Now I need a drink, alcoholic of course, after the heavy lectures involving quantum mechanics.”という文を単語に分解し，各単語の（アルファベットの）文字数を先頭から出現順に並べたリストを作成せよ．"
      ],
      "metadata": {
        "id": "fpY8e7yb1LZP"
      }
    },
    {
      "cell_type": "code",
      "source": [
        "from os import replace\n",
        "#03\n",
        "sentence = \"Now I need a drink, alcoholic of course, after the heavy lectures involving quantum mechanics.\"\n",
        "\n",
        "sentence = sentence.replace(',', '')# , .など単語以外の消去\n",
        "sentence = sentence.replace('.', '')\n",
        "\n",
        "words = sentence.split(' ') # ' '(空欄)でスライス\n",
        "print(words)\n"
      ],
      "metadata": {
        "colab": {
          "base_uri": "https://localhost:8080/"
        },
        "id": "m8qOUf_nzGkO",
        "outputId": "5a1be68e-84b6-4c04-aaf4-72a178bd6ab0"
      },
      "execution_count": null,
      "outputs": [
        {
          "output_type": "stream",
          "name": "stdout",
          "text": [
            "['Now', 'I', 'need', 'a', 'drink', 'alcoholic', 'of', 'course', 'after', 'the', 'heavy', 'lectures', 'involving', 'quantum', 'mechanics']\n"
          ]
        }
      ]
    },
    {
      "cell_type": "markdown",
      "source": [
        "https://atmarkit.itmedia.co.jp/ait/articles/2010/30/news018.html"
      ],
      "metadata": {
        "id": "QVE4XEI-2-tE"
      }
    },
    {
      "cell_type": "markdown",
      "source": [
        "04\n",
        "\n",
        "“Hi He Lied Because Boron Could Not Oxidize Fluorine. New Nations Might Also Sign Peace Security Clause. Arthur King Can.”という文を単語に分解し，1, 5, 6, 7, 8, 9, 15, 16, 19番目の単語は先頭の1文字，それ以外の単語は先頭の2文字を取り出し，取り出した文字列から単語の位置（先頭から何番目の単語か）への連想配列（辞書型もしくはマップ型）を作成せよ．"
      ],
      "metadata": {
        "id": "F0g2t0rs3ZZt"
      }
    },
    {
      "cell_type": "code",
      "source": [
        "# 04\n",
        "\n",
        "sentence = \"Hi He Lied Because Boron Could Not Oxidize Fluorine. New Nations Might Also Sign Peace Security Clause. Arthur King Can.\"\n",
        "number = [1, 5, 6, 7, 8, 9, 15, 16, 19]\n",
        "\n",
        "sentence = sentence.replace(',', '')# , .など単語以外の消去\n",
        "sentence = sentence.replace('.', '')\n",
        "\n",
        "words = sentence.split(' ') # ' '(空欄)でスライス\n",
        "print(words)\n",
        "\n",
        "dict = {}\n",
        "for i in range(len(words)):\n",
        "  if i+1 in number: # iは0から始まるため1を足して調整\n",
        "    dict[i] = words[i][0:1] # 一文字目だけ\n",
        "  else:\n",
        "    dict[i] = words[i][0:2] # 二文字目まで\n",
        "\n",
        "print(dict)"
      ],
      "metadata": {
        "colab": {
          "base_uri": "https://localhost:8080/"
        },
        "id": "EE0kErva3iDm",
        "outputId": "4852675d-1a54-475d-d371-c7b26d5b9e1a"
      },
      "execution_count": null,
      "outputs": [
        {
          "output_type": "stream",
          "name": "stdout",
          "text": [
            "['Hi', 'He', 'Lied', 'Because', 'Boron', 'Could', 'Not', 'Oxidize', 'Fluorine', 'New', 'Nations', 'Might', 'Also', 'Sign', 'Peace', 'Security', 'Clause', 'Arthur', 'King', 'Can']\n",
            "{0: 'H', 1: 'He', 2: 'Li', 3: 'Be', 4: 'B', 5: 'C', 6: 'N', 7: 'O', 8: 'F', 9: 'Ne', 10: 'Na', 11: 'Mi', 12: 'Al', 13: 'Si', 14: 'P', 15: 'S', 16: 'Cl', 17: 'Ar', 18: 'K', 19: 'Ca'}\n"
          ]
        }
      ]
    },
    {
      "cell_type": "markdown",
      "source": [
        "https://magazine.techacademy.jp/magazine/43247#1"
      ],
      "metadata": {
        "id": "ilFzddwPBBJW"
      }
    },
    {
      "cell_type": "markdown",
      "source": [
        "05\n",
        "\n",
        "与えられたシーケンス（文字列やリストなど）からn-gramを作る関数を作成せよ．この関数を用い，”I am an NLPer”という文から単語bi-gram，文字bi-gramを得よ．"
      ],
      "metadata": {
        "id": "khUgmn0T3gYs"
      }
    },
    {
      "cell_type": "code",
      "source": [
        "# 05\n",
        "data = \"I am an NLPer\"\n",
        "\n",
        "# 単語n-gram\n",
        "def words_n_gram(sentence, number):\n",
        "  sentence = sentence.replace(',', '').replace('.', '')# , .など単語以外の消去\n",
        "\n",
        "  words = sentence.split(' ') # ' '(空欄)でスライスして単語に分割\n",
        "\n",
        "  result = print_result(words, number)\n",
        "\n",
        "  return result\n",
        "\n",
        "# 文字n-gram\n",
        "def character_n_gram(sentence, number):\n",
        "\n",
        "  sentence = sentence.replace(' ', '') #スペースの消去\n",
        "  characters = list(sentence)\n",
        "\n",
        "  result = print_result(sentence, number)\n",
        "  return result\n",
        "\n",
        "# n-gram\n",
        "def print_result(data_list, number):\n",
        "  result = []\n",
        "  for i in range(len(data_list) - 1):\n",
        "    if (i + number <= len(data_list)):\n",
        "      result.append(data_list[i : i + number])\n",
        "\n",
        "  return result\n",
        "\n",
        "result = words_n_gram(data, 2)\n",
        "print(result)\n",
        "\n",
        "result2 = character_n_gram(data, 2)\n",
        "print(result2)\n"
      ],
      "metadata": {
        "id": "uZVgapQxBKkl",
        "colab": {
          "base_uri": "https://localhost:8080/"
        },
        "outputId": "5bbd30ee-b252-4d86-b4d1-80f087f1ce60"
      },
      "execution_count": null,
      "outputs": [
        {
          "output_type": "stream",
          "name": "stdout",
          "text": [
            "[['I', 'am'], ['am', 'an'], ['an', 'NLPer']]\n",
            "['Ia', 'am', 'ma', 'an', 'nN', 'NL', 'LP', 'Pe', 'er']\n"
          ]
        }
      ]
    },
    {
      "cell_type": "markdown",
      "source": [
        "https://zero2one.jp/ai-word/n-gram/\n",
        "\n",
        "https://mojitoba.com/2019/09/23/what-is-ngram/"
      ],
      "metadata": {
        "id": "yCkcTnhyH1cd"
      }
    },
    {
      "cell_type": "markdown",
      "source": [
        "06\n",
        "\n",
        "“paraparaparadise”と”paragraph”に含まれる文字bi-gramの集合を，それぞれ, XとYとして求め，XとYの和集合，積集合，差集合を求めよ．さらに，’se’というbi-gramがXおよびYに含まれるかどうかを調べよ．"
      ],
      "metadata": {
        "id": "pY5uycZUVJ8H"
      }
    },
    {
      "cell_type": "code",
      "source": [
        "# 06\n",
        "\n",
        "word1 = \"paraparaparadise\"\n",
        "word2 = \"paragraph\"\n",
        "\n",
        "# 05を利用して，n-gram集合を算出する\n",
        "# 論理演算子を使えるようにリストからsetに直しておく　→　始めからsetのほうがいい？\n",
        "X = set(character_n_gram(word1, 2))\n",
        "Y = set(character_n_gram(word2, 2))\n",
        "\n",
        "print(X, Y)\n",
        "\n",
        "# 和集合\n",
        "print(X | Y)\n",
        "\n",
        "# 積集合\n",
        "print(X & Y)\n",
        "\n",
        "# 差集合\n",
        "print(X - Y)\n",
        "\n",
        "# seの探索\n",
        "if \"se\" in X and \"se\" in Y:\n",
        "  print(\"se : X, Y\")\n",
        "elif \"se\" in X:\n",
        "  print(\"se : X\")\n",
        "elif \"se\" in Y:\n",
        "  print(\"se : Y\")\n",
        "else:\n",
        "  print(\"se : なし\")\n"
      ],
      "metadata": {
        "colab": {
          "base_uri": "https://localhost:8080/"
        },
        "id": "DjJWkoDP89OS",
        "outputId": "8ffd7d0f-b3a5-46a0-8110-cb4cf6fb6d92"
      },
      "execution_count": null,
      "outputs": [
        {
          "output_type": "stream",
          "name": "stdout",
          "text": [
            "{'ad', 'ar', 'di', 'is', 'se', 'pa', 'ra', 'ap'} {'gr', 'ar', 'ag', 'pa', 'ap', 'ph', 'ra'}\n",
            "{'gr', 'ad', 'ar', 'di', 'ag', 'is', 'se', 'pa', 'ph', 'ra', 'ap'}\n",
            "{'pa', 'ra', 'ar', 'ap'}\n",
            "{'di', 'is', 'ad', 'se'}\n",
            "se : X\n"
          ]
        }
      ]
    },
    {
      "cell_type": "markdown",
      "source": [
        "https://chokkan.github.io/python/10set.html"
      ],
      "metadata": {
        "id": "ubatzX1aDCJY"
      }
    },
    {
      "cell_type": "markdown",
      "source": [
        "07\n",
        "\n",
        "引数x, y, zを受け取り「x時のyはz」という文字列を返す関数を実装せよ．さらに，x=12, y=”気温”, z=22.4として，実行結果を確認せよ"
      ],
      "metadata": {
        "id": "gvxR3ENYDEha"
      }
    },
    {
      "cell_type": "code",
      "source": [
        "# 07\n",
        "\n",
        "# 情報入力\n",
        "def data(name):\n",
        "    print(name, \" = \", end=\"\")\n",
        "    data = input()\n",
        "    return data\n",
        "\n",
        "# 解答文章作成\n",
        "def make_result():\n",
        "  x = data(\"x\")\n",
        "  y = data(\"y\")\n",
        "  z = data(\"z\")\n",
        "\n",
        "  result = x + \"時の\" + y + \"は\" + z  # 結果の文字列を結合\n",
        "  return result\n",
        "\n",
        "# 結果表示\n",
        "resulr = make_result()\n",
        "print(result)  # 結果を表示"
      ],
      "metadata": {
        "colab": {
          "base_uri": "https://localhost:8080/"
        },
        "id": "iI2sG-rDDMd_",
        "outputId": "21e14ba0-e18d-4d5f-97fd-c8a19f13905e"
      },
      "execution_count": null,
      "outputs": [
        {
          "output_type": "stream",
          "name": "stdout",
          "text": [
            "x  = 12\n",
            "y  = 気温\n",
            "z  = 22.4\n",
            "12時の気温は22.4\n"
          ]
        }
      ]
    },
    {
      "cell_type": "markdown",
      "source": [
        "https://www.google.com/search?q=python+%E6%94%B9%E8%A1%8C%E3%82%92%E3%81%AA%E3%81%8F%E3%81%99%E3%80%80print&sca_esv=3579ff24ad441571&rlz=1C1GCEA_enJP999JP1000&ei=IWcwZ8yWNLik2roP0IjewQc&ved=0ahUKEwiMq7GNpdGJAxU4klYBHVCEN3gQ4dUDCA8&uact=5&oq=python+%E6%94%B9%E8%A1%8C%E3%82%92%E3%81%AA%E3%81%8F%E3%81%99%E3%80%80print&gs_lp=Egxnd3Mtd2l6LXNlcnAiIXB5dGhvbiDmlLnooYzjgpLjgarjgY_jgZnjgIBwcmludDIIEAAYgAQYogQyCBAAGIAEGKIEMggQABiABBiiBDIIEAAYgAQYogRIkQ5QtwRY3QtwAXgAkAEAmAGPAaABggaqAQMzLjS4AQPIAQD4AQGYAgegArYFwgIKEAAYsAMY1gQYR8ICBBAAGB7CAggQABiiBBiJBZgDAIgGAZAGCpIHAzIuNaAHgRI&sclient=gws-wiz-serp"
      ],
      "metadata": {
        "id": "t8MN1bGnGkos"
      }
    },
    {
      "cell_type": "markdown",
      "source": [
        "08\n",
        "\n",
        "与えられた文字列の各文字を，以下の仕様で変換する関数cipherを実装せよ．\n",
        "\n",
        "英小文字ならば(219 - 文字コード)の文字に置換\n",
        "その他の文字はそのまま出力\n",
        "この関数を用い，英語のメッセージを暗号化・復号化せよ．"
      ],
      "metadata": {
        "id": "GSWvQHJIGm8a"
      }
    },
    {
      "cell_type": "code",
      "source": [
        "# 08\n",
        "import re\n",
        "\n",
        "def cipher(data):\n",
        "  result = []\n",
        "  data = list(data)\n",
        "\n",
        "  # 英小文字→(219-文字コード)\n",
        "  for i in range (len(data)):\n",
        "    if re.search(r'[a-z]', data[i]):\n",
        "      result.append(chr(219 - ord(data[i])))\n",
        "    else:\n",
        "      result.append(data[i])\n",
        "  return \"\".join(result)\n",
        "\n",
        "\n",
        "# 結果表示\n",
        "data =\"Hello World 123\"\n",
        "result = cipher(data)\n",
        "print(result)"
      ],
      "metadata": {
        "colab": {
          "base_uri": "https://localhost:8080/"
        },
        "id": "N_f0n_wxGsaS",
        "outputId": "6b5c0db7-3909-46fa-d2f6-c9a6492d0a38"
      },
      "execution_count": null,
      "outputs": [
        {
          "output_type": "stream",
          "name": "stdout",
          "text": [
            "Hvool Wliow 123\n"
          ]
        }
      ]
    },
    {
      "cell_type": "markdown",
      "source": [
        "https://note.nkmk.me/python-chr-ord-unicode-code-point/#unicode-chr\n",
        "\n",
        "https://uxmilk.jp/8683"
      ],
      "metadata": {
        "id": "VrMmxi6pMznn"
      }
    },
    {
      "cell_type": "markdown",
      "source": [
        "09\n",
        "\n",
        "スペースで区切られた単語列に対して，各単語の先頭と末尾の文字は残し，それ以外の文字の順序をランダムに並び替えるプログラムを作成せよ．ただし，長さが４以下の単語は並び替えないこととする．適当な英語の文（例えば”I couldn’t believe that I could actually understand what I was reading : the phenomenal power of the human mind .”）を与え，その実行結果を確認せよ．"
      ],
      "metadata": {
        "id": "E00MxZh2M3jy"
      }
    },
    {
      "cell_type": "code",
      "source": [
        "# 09\n",
        "import random\n",
        "\n",
        "data = \"I couldn’t believe that I could actually understand what I was reading : the phenomenal power of the human mind .\"\n",
        "\n",
        "# スペースで区切って単語分割\n",
        "data = data.split(' ')\n",
        "print(data, len(data))\n",
        "def random_words(data):\n",
        "  if len(data) > 4:\n",
        "    for i in range(1, len(data)):\n",
        "      word = list(data[i]) # リストにしないとシャッフルできないため，単語をアルファベットに分解\n",
        "      shuffled_word = random.shuffle(word) # アルファベットを並べ替える\n",
        "      data[i] = ''.join(word) # 単語にするためにリストの中身をまとめる\n",
        "  return data\n",
        "\n",
        "result = random_words(data)\n",
        "print(result)"
      ],
      "metadata": {
        "colab": {
          "base_uri": "https://localhost:8080/"
        },
        "id": "RY9YJSjjM8Qw",
        "outputId": "2a462d51-90a5-4ede-dc24-5d8a21e338b2"
      },
      "execution_count": null,
      "outputs": [
        {
          "output_type": "stream",
          "name": "stdout",
          "text": [
            "['I', 'couldn’t', 'believe', 'that', 'I', 'could', 'actually', 'understand', 'what', 'I', 'was', 'reading', ':', 'the', 'phenomenal', 'power', 'of', 'the', 'human', 'mind', '.'] 21\n",
            "['I', 'octlu’nd', 'leibeve', 'atht', 'I', 'clduo', 'cualtaly', 'dudantrnse', 'htwa', 'I', 'aws', 'ieanrgd', ':', 'the', 'peenanlomh', 'wproe', 'of', 'the', 'uanmh', 'dmni', '.']\n"
          ]
        }
      ]
    },
    {
      "cell_type": "markdown",
      "source": [
        "https://note.nkmk.me/python-random-shuffle/#:~:text=%E6%96%87%E5%AD%97%E5%88%97%E3%82%84%E3%82%BF%E3%83%97%E3%83%AB%E3%81%AE%E3%82%B7%E3%83%A3%E3%83%83%E3%83%95%E3%83%AB,-%E6%96%87%E5%AD%97%E5%88%97%E3%82%84&text=%E6%96%87%E5%AD%97%E5%88%97%E3%82%84%E3%82%BF%E3%83%97%E3%83%AB%E3%82%92,%E3%81%9F%E3%82%81%E3%81%AE%E5%87%A6%E7%90%86%E3%81%8C%E5%BF%85%E8%A6%81%E3%80%82"
      ],
      "metadata": {
        "id": "66Tx-vSaOgPO"
      }
    }
  ]
}